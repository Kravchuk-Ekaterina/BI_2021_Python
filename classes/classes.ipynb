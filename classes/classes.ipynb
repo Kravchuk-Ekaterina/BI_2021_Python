{
 "cells": [
  {
   "cell_type": "markdown",
   "id": "99aec354",
   "metadata": {},
   "source": [
    "# Classes"
   ]
  },
  {
   "cell_type": "markdown",
   "id": "d34ba762",
   "metadata": {},
   "source": [
    "### Task 1"
   ]
  },
  {
   "cell_type": "code",
   "execution_count": 21,
   "id": "37c109e5",
   "metadata": {},
   "outputs": [],
   "source": [
    "class Snail:\n",
    "    def __init__(self, name = 'noname', species = 'unknown', age = 0, size = 0, status = 'inside'):\n",
    "        self.name = name\n",
    "        self.species = species\n",
    "        self.age = age\n",
    "        self.size = size\n",
    "        self.status = status\n",
    "    \n",
    "    def age_group(self):\n",
    "        if self.age <= 15:\n",
    "            print('young')\n",
    "        elif self.age <= 60:\n",
    "            print('adult')\n",
    "        else:\n",
    "            print('old')\n",
    "    \n",
    "    def size_group(self):\n",
    "        if self.size <= 20:\n",
    "            print('small')\n",
    "        elif self.size < 80:\n",
    "            print('medium')\n",
    "        else:\n",
    "            print('large')\n",
    "            \n",
    "    def growth(self):\n",
    "        self.size += 1\n",
    "        \n",
    "    def greet(self):\n",
    "        if self.status == 'inside':\n",
    "            print(\"Well, well. Look who's inside again.\")\n",
    "        elif self.status == 'outside':\n",
    "            print(\"Hello, world!\", \" I am\", self.name)\n",
    "        else:\n",
    "            print(\"I'm in a frightening, liminal space between states of being\")\n",
    "        "
   ]
  },
  {
   "cell_type": "markdown",
   "id": "042c1b51",
   "metadata": {},
   "source": [
    "Examples"
   ]
  },
  {
   "cell_type": "code",
   "execution_count": 19,
   "id": "6a9210a8",
   "metadata": {},
   "outputs": [
    {
     "name": "stdout",
     "output_type": "stream",
     "text": [
      "Hello, world!  I am Kibula\n"
     ]
    }
   ],
   "source": [
    "Kibula = Snail('Kibula', species = 'Lissachatina reticulata', age = 8, size = 20, status = 'outside')\n",
    "Kibula.age_group()"
   ]
  },
  {
   "cell_type": "code",
   "execution_count": 20,
   "id": "567a0f36",
   "metadata": {},
   "outputs": [
    {
     "name": "stdout",
     "output_type": "stream",
     "text": [
      "medium\n"
     ]
    }
   ],
   "source": [
    "Kibula.growth()\n",
    "Kibula.size_group()"
   ]
  },
  {
   "cell_type": "code",
   "execution_count": null,
   "id": "891f2c9a",
   "metadata": {},
   "outputs": [],
   "source": [
    "Luca = Snail('Luca', age = 80, size = 150, status = 'problematic')\n"
   ]
  }
 ],
 "metadata": {
  "kernelspec": {
   "display_name": "Python 3 (ipykernel)",
   "language": "python",
   "name": "python3"
  },
  "language_info": {
   "codemirror_mode": {
    "name": "ipython",
    "version": 3
   },
   "file_extension": ".py",
   "mimetype": "text/x-python",
   "name": "python",
   "nbconvert_exporter": "python",
   "pygments_lexer": "ipython3",
   "version": "3.9.7"
  }
 },
 "nbformat": 4,
 "nbformat_minor": 5
}
