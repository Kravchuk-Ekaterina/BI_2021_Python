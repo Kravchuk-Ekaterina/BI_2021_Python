{
 "cells": [
  {
   "cell_type": "markdown",
   "id": "99aec354",
   "metadata": {},
   "source": [
    "# Classes"
   ]
  },
  {
   "cell_type": "markdown",
   "id": "d34ba762",
   "metadata": {},
   "source": [
    "### Task 1"
   ]
  },
  {
   "cell_type": "code",
   "execution_count": 2,
   "id": "37c109e5",
   "metadata": {},
   "outputs": [],
   "source": [
    "class Snail:\n",
    "    def __init__(self, name = 'noname', species = 'unknown', age = 0, size = 0, status = 'inside'):\n",
    "        self.name = name\n",
    "        self.species = species\n",
    "        self.age = age\n",
    "        self.size = size\n",
    "        self.status = status\n",
    "    \n",
    "    def age_group(self):\n",
    "        if self.age <= 15:\n",
    "            print('young')\n",
    "        elif self.age <= 60:\n",
    "            print('adult')\n",
    "        else:\n",
    "            print('old')\n",
    "    \n",
    "    def size_group(self):\n",
    "        if self.size <= 20:\n",
    "            print('small')\n",
    "        elif self.size < 80:\n",
    "            print('medium')\n",
    "        else:\n",
    "            print('large')\n",
    "            \n",
    "    def growth(self):\n",
    "        self.size += 1\n",
    "        \n",
    "    def greet(self):\n",
    "        if self.status == 'inside':\n",
    "            print(\"Well, well. Look who's inside again.\")\n",
    "        elif self.status == 'outside':\n",
    "            print(\"Hello, world!\", \" I am\", self.name)\n",
    "        else:\n",
    "            print(\"I'm in a frightening, liminal space between states of being\")\n",
    "        "
   ]
  },
  {
   "cell_type": "markdown",
   "id": "042c1b51",
   "metadata": {},
   "source": [
    "Examples"
   ]
  },
  {
   "cell_type": "code",
   "execution_count": 3,
   "id": "6a9210a8",
   "metadata": {},
   "outputs": [
    {
     "name": "stdout",
     "output_type": "stream",
     "text": [
      "young\n"
     ]
    }
   ],
   "source": [
    "Kibula = Snail('Kibula', species = 'Lissachatina reticulata', age = 8, size = 20, status = 'outside')\n",
    "Kibula.age_group()"
   ]
  },
  {
   "cell_type": "code",
   "execution_count": 4,
   "id": "567a0f36",
   "metadata": {},
   "outputs": [
    {
     "name": "stdout",
     "output_type": "stream",
     "text": [
      "medium\n"
     ]
    }
   ],
   "source": [
    "Kibula.growth()\n",
    "Kibula.size_group()"
   ]
  },
  {
   "cell_type": "code",
   "execution_count": 5,
   "id": "891f2c9a",
   "metadata": {},
   "outputs": [
    {
     "name": "stdout",
     "output_type": "stream",
     "text": [
      "I'm in a frightening, liminal space between states of being\n"
     ]
    }
   ],
   "source": [
    "Luca = Snail('Luca', age = 80, size = 150, status = 'problematic')\n",
    "Luca.greet()"
   ]
  },
  {
   "cell_type": "markdown",
   "id": "44f61193",
   "metadata": {},
   "source": [
    "### Task 2"
   ]
  },
  {
   "cell_type": "code",
   "execution_count": 6,
   "id": "4ede7ad5",
   "metadata": {},
   "outputs": [],
   "source": [
    "class RNA:\n",
    "    \n",
    "    def __init__(self, sequence):\n",
    "        self.sequence = str(sequence).upper()\n",
    "        \n",
    "    def translation(self):\n",
    "        seq = self.sequence\n",
    "        code = {'UUU' : 'F', 'UUC' : 'F', 'UUA' : 'L', 'UUG' : 'L', 'UCU' : 'S', 'UCC' : 'S', 'UCA' : 'S', 'UCG' : 'S', 'UAU' : 'Y', 'UAC' : 'Y', 'UAA' : 'stop', 'UAG' : 'stop', 'UGU' : 'C', 'UGC' : 'C', 'UGA' : 'stop', 'UGG' : 'W', 'CUU' : 'L', 'CUC' : 'L', 'CUA' : 'L', 'CUG' : 'L', 'CCU' : 'P', 'CCC' : 'P', 'CCA' : 'P', 'CCG' : 'P', 'CAU' : 'H', 'CAC' : 'H', 'CAA' : 'Q', 'CAG' : 'Q', 'CGU' : 'R', 'CGC' : 'R', 'CGA' : 'R', 'CGG' : 'R', 'AUU' : 'I', 'AUC' : 'I', 'AUA' : 'I', 'AUG' : 'M', 'ACU' : 'T', 'ACC' : 'T', 'ACA' : 'T', 'ACG' : 'T', 'AAU' : 'N', 'AAC' : 'N', 'AAA' : 'K', 'AAG' : 'K', 'AGU' : 'S', 'AGC' : 'S', 'AGA' : 'R', 'AGG' : 'R', 'GUU' : 'V', 'GUC' : 'V', 'GUA' : 'V', 'GUG' : 'V', 'GCU' : 'A', 'GCC' : 'A', 'GCA' : 'A', 'GCG' : 'A', 'GAU' : 'D', 'GAC' : 'D', 'GAA' : 'E', 'GAG' : 'E', 'GGU' : 'G', 'GGC' : 'G', 'GGA' : 'G', 'GGG' : 'G'}\n",
    "        protein =''\n",
    "        while seq[0:3] != 'AUG':\n",
    "            seq = seq[1:]\n",
    "        while len(seq) > 2:\n",
    "            if code[seq[0:3]] == 'stop':\n",
    "                break\n",
    "            protein += code[seq[0:3]]\n",
    "            seq = seq[3:]\n",
    "        print(protein)\n",
    "        \n",
    "    def reverse_transcription(self):\n",
    "        pairs = {'A':'T', 'U':'A', 'G':'C', 'C':'G'}\n",
    "        dna = ''\n",
    "        for base in self.sequence:\n",
    "            dna += pairs[base]\n",
    "        print(dna)"
   ]
  },
  {
   "cell_type": "markdown",
   "id": "e3c1f93c",
   "metadata": {},
   "source": [
    "Examples"
   ]
  },
  {
   "cell_type": "code",
   "execution_count": 7,
   "id": "94311d48",
   "metadata": {},
   "outputs": [
    {
     "name": "stdout",
     "output_type": "stream",
     "text": [
      "MKYIPTGHPICLT\n"
     ]
    }
   ],
   "source": [
    "seq1 = RNA('AAUGAAAUAUAUUCCUACAGGCCAUCCUAUCUGUCUCACGUAGAUGAAA')\n",
    "seq1.translation()"
   ]
  },
  {
   "cell_type": "code",
   "execution_count": 8,
   "id": "d869a25d",
   "metadata": {},
   "outputs": [
    {
     "name": "stdout",
     "output_type": "stream",
     "text": [
      "TTACTTTATATAAGGATGTCCGGTAGGATAGACAGAGTGCATCTACTTT\n"
     ]
    }
   ],
   "source": [
    "seq1.reverse_transcription()"
   ]
  },
  {
   "cell_type": "markdown",
   "id": "0d337637",
   "metadata": {},
   "source": [
    "### Task 3"
   ]
  },
  {
   "cell_type": "code",
   "execution_count": 11,
   "id": "c49893ab",
   "metadata": {},
   "outputs": [],
   "source": [
    "class PositiveSet(set):\n",
    "    def __init__(self, *args):\n",
    "        self.set = set()\n",
    "        for arg in args:\n",
    "            if arg > 0:\n",
    "                self.set.add(arg)\n",
    "    def add(self, *args):\n",
    "        for arg in args:\n",
    "            if arg > 0:\n",
    "                self.set.add(arg)"
   ]
  }
 ],
 "metadata": {
  "kernelspec": {
   "display_name": "Python 3 (ipykernel)",
   "language": "python",
   "name": "python3"
  },
  "language_info": {
   "codemirror_mode": {
    "name": "ipython",
    "version": 3
   },
   "file_extension": ".py",
   "mimetype": "text/x-python",
   "name": "python",
   "nbconvert_exporter": "python",
   "pygments_lexer": "ipython3",
   "version": "3.9.7"
  }
 },
 "nbformat": 4,
 "nbformat_minor": 5
}
