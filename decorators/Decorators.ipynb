{
 "cells": [
  {
   "cell_type": "markdown",
   "id": "de0dda37",
   "metadata": {},
   "source": [
    "# Decorators"
   ]
  },
  {
   "cell_type": "markdown",
   "id": "ef7f6aed",
   "metadata": {},
   "source": [
    "### Task 1"
   ]
  },
  {
   "cell_type": "code",
   "execution_count": 1,
   "id": "8aadf47e",
   "metadata": {},
   "outputs": [],
   "source": [
    "import time"
   ]
  },
  {
   "cell_type": "code",
   "execution_count": 2,
   "id": "fdbe55dc",
   "metadata": {},
   "outputs": [],
   "source": [
    "def measure_time(func):\n",
    "    def inner_function(*args, **kwargs):\n",
    "        start = time.time()\n",
    "        func(*args, **kwargs)\n",
    "        end = time.time()\n",
    "        return end - start\n",
    "    return inner_function"
   ]
  },
  {
   "cell_type": "code",
   "execution_count": 3,
   "id": "9fb17b61",
   "metadata": {},
   "outputs": [
    {
     "data": {
      "text/plain": [
       "21.015852451324463"
      ]
     },
     "execution_count": 3,
     "metadata": {},
     "output_type": "execute_result"
    }
   ],
   "source": [
    "@measure_time\n",
    "def some_function(a, b, c, d, e=0, f=2, g='3'):\n",
    "    time.sleep(a)\n",
    "    time.sleep(b)\n",
    "    time.sleep(c)\n",
    "    time.sleep(d)\n",
    "    time.sleep(e)\n",
    "    time.sleep(f)\n",
    "    return g\n",
    "\n",
    "some_function(1, 2, 3, 4, e=5, f=6, g= '9999')"
   ]
  },
  {
   "cell_type": "markdown",
   "id": "0dcd1626",
   "metadata": {},
   "source": [
    "### Task 2"
   ]
  },
  {
   "cell_type": "code",
   "execution_count": 4,
   "id": "b9172c0a",
   "metadata": {},
   "outputs": [],
   "source": [
    "def function_logging(func):\n",
    "    def inner_function(*args, **kwargs):\n",
    "        name = func.__name__\n",
    "        kwarg_str = ''\n",
    "        if kwargs:\n",
    "            for i in kwargs:\n",
    "                kwarg_str += f'{i}={kwargs[i]}, '\n",
    "        kwarg_str = kwarg_str[0:-2]\n",
    "        if not args:\n",
    "            if not kwargs:\n",
    "                print(f'Function {name} is called with no arguments')\n",
    "            else:\n",
    "                print(f'Function {name} is called with keyword arguments: {kwarg_str}')\n",
    "        else:\n",
    "            if not kwargs:\n",
    "                print(f'Function {name} is called with positional arguments: {args}')\n",
    "            else:\n",
    "                print(f'Function {name} is called with positional arguments: {args} and keyword arguments {kwarg_str}')\n",
    "        result = func(*args, **kwargs)\n",
    "        print(f'Function {name} returns outpur of type {type(result).__name__}')\n",
    "        return result\n",
    "    return inner_function"
   ]
  },
  {
   "cell_type": "code",
   "execution_count": 5,
   "id": "a47c3a04",
   "metadata": {},
   "outputs": [
    {
     "name": "stdout",
     "output_type": "stream",
     "text": [
      "Function func1 is called with no arguments\n",
      "Function func1 returns outpur of type set\n",
      "set()\n",
      "\n",
      "Function func2 is called with positional arguments: (1, 2, 3)\n",
      "Function func2 returns outpur of type float\n",
      "1.0\n",
      "\n",
      "Function func3 is called with positional arguments: (1, 2) and keyword arguments c=3, d=2\n",
      "Function func3 returns outpur of type list\n",
      "[7, 7]\n",
      "\n",
      "Function func4 is called with keyword arguments: a=None, b=-inf\n",
      "Function func4 returns outpur of type dict\n",
      "{None: -inf}\n",
      "\n"
     ]
    }
   ],
   "source": [
    "@function_logging\n",
    "def func1():\n",
    "    return set()\n",
    "\n",
    "@function_logging\n",
    "def func2(a, b, c):\n",
    "    return (a+b)/c\n",
    "\n",
    "@function_logging\n",
    "def func3(a, b, c, d=4):\n",
    "    return [a + b * c] * d\n",
    "\n",
    "@function_logging\n",
    "def func4(a=None, b=None):\n",
    "    return {a: b}\n",
    "\n",
    "print(func1(), end='\\n\\n')\n",
    "print(func2(1, 2, 3), end='\\n\\n')\n",
    "print(func3(1, 2, c=3, d=2), end='\\n\\n')\n",
    "print(func4(a=None, b=float('-inf')), end='\\n\\n')"
   ]
  },
  {
   "cell_type": "markdown",
   "id": "89ac2e98",
   "metadata": {},
   "source": [
    "### Task 3"
   ]
  },
  {
   "cell_type": "code",
   "execution_count": 6,
   "id": "60477ef7",
   "metadata": {},
   "outputs": [],
   "source": [
    "import random"
   ]
  },
  {
   "cell_type": "code",
   "execution_count": 7,
   "id": "12a7fe77",
   "metadata": {},
   "outputs": [],
   "source": [
    "def russian_roulette_decorator(probability, return_value):\n",
    "    def decorator(func):\n",
    "        def inner_func(*args, **kwargs):\n",
    "            if random.random() < probability:\n",
    "                return return_value\n",
    "            else:\n",
    "                return func(*args, **kwargs)\n",
    "        return inner_func\n",
    "    return decorator"
   ]
  },
  {
   "cell_type": "code",
   "execution_count": 8,
   "id": "383c964c",
   "metadata": {},
   "outputs": [],
   "source": [
    "import requests"
   ]
  },
  {
   "cell_type": "code",
   "execution_count": 9,
   "id": "b4b9ad0b",
   "metadata": {},
   "outputs": [],
   "source": [
    "@russian_roulette_decorator(probability=0.2, return_value='Ooops, your output has been stolen!')\n",
    "def make_requests(url):\n",
    "    return requests.get(url)"
   ]
  },
  {
   "cell_type": "code",
   "execution_count": 10,
   "id": "e0ff74ed",
   "metadata": {},
   "outputs": [
    {
     "name": "stdout",
     "output_type": "stream",
     "text": [
      "<Response [200]>\n",
      "<Response [200]>\n",
      "<Response [200]>\n",
      "<Response [200]>\n",
      "Ooops, your output has been stolen!\n",
      "Ooops, your output has been stolen!\n",
      "Ooops, your output has been stolen!\n",
      "Ooops, your output has been stolen!\n",
      "Ooops, your output has been stolen!\n",
      "<Response [200]>\n"
     ]
    }
   ],
   "source": [
    "for _ in range(10):\n",
    "    print(make_requests('https://google.com'))"
   ]
  }
 ],
 "metadata": {
  "kernelspec": {
   "display_name": "Python 3 (ipykernel)",
   "language": "python",
   "name": "python3"
  },
  "language_info": {
   "codemirror_mode": {
    "name": "ipython",
    "version": 3
   },
   "file_extension": ".py",
   "mimetype": "text/x-python",
   "name": "python",
   "nbconvert_exporter": "python",
   "pygments_lexer": "ipython3",
   "version": "3.8.13"
  }
 },
 "nbformat": 4,
 "nbformat_minor": 5
}
