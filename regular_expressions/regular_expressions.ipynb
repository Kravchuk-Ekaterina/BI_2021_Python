{
 "cells": [
  {
   "cell_type": "markdown",
   "id": "f89dadd3",
   "metadata": {},
   "source": [
    "# Regular expressions homework"
   ]
  },
  {
   "cell_type": "markdown",
   "id": "60360e6b",
   "metadata": {},
   "source": [
    "Importing required modules"
   ]
  },
  {
   "cell_type": "code",
   "execution_count": 14,
   "id": "70b61d7f",
   "metadata": {},
   "outputs": [],
   "source": [
    "import re\n",
    "import matplotlib.pyplot as plt"
   ]
  },
  {
   "cell_type": "markdown",
   "id": "220372e5",
   "metadata": {},
   "source": [
    "### Task 1: ftp links"
   ]
  },
  {
   "cell_type": "code",
   "execution_count": 5,
   "id": "d75c0221",
   "metadata": {},
   "outputs": [],
   "source": [
    "ftp_pattern = re.compile(r'ftp[^;\\s]+')\n",
    "with open('references.txt', 'r') as file:\n",
    "    data = file.read()\n",
    "    ftp = ftp_pattern.finditer(data)\n",
    "    with open('ftp_links.txt', 'w') as ftp_links:\n",
    "        for i in ftp:\n",
    "            ftp_links.write(i.group())\n",
    "            ftp_links.write('\\n')"
   ]
  },
  {
   "cell_type": "markdown",
   "id": "b4c94c05",
   "metadata": {},
   "source": [
    "The output is in the file references.txt"
   ]
  },
  {
   "cell_type": "markdown",
   "id": "4efb990a",
   "metadata": {},
   "source": [
    "### Tasks 2-5. The 2430 A.D. story"
   ]
  },
  {
   "cell_type": "code",
   "execution_count": 6,
   "id": "8ab016f2",
   "metadata": {},
   "outputs": [],
   "source": [
    "def pattern_finder(pattern, in_file, out_file):\n",
    "    pattern = re.compile(pattern, re.IGNORECASE)\n",
    "    with open(in_file, mode='r') as inp:\n",
    "        data = inp.read()\n",
    "    with open(out_file, 'w') as out:\n",
    "        for i in pattern.finditer(data):\n",
    "            out.write(i.group())\n",
    "            out.write('\\n')"
   ]
  },
  {
   "cell_type": "markdown",
   "id": "cc273824",
   "metadata": {},
   "source": [
    "Task 2: all the numbers from 2430 A.D. story"
   ]
  },
  {
   "cell_type": "code",
   "execution_count": 10,
   "id": "f55a9f05",
   "metadata": {},
   "outputs": [],
   "source": [
    "pattern_finder(r'\\d+[\\.]*\\d*', '2430AD.txt', 'numbers.txt') \n",
    "# the output is in numbers.txt"
   ]
  },
  {
   "cell_type": "markdown",
   "id": "3cab1312",
   "metadata": {},
   "source": [
    "Task 3: all words with a from 2430 A.D. story"
   ]
  },
  {
   "cell_type": "code",
   "execution_count": 11,
   "id": "a17b04e6",
   "metadata": {},
   "outputs": [],
   "source": [
    "pattern_finder(r'\\w*[a]\\w*', '2430AD.txt', 'a_words.txt')\n",
    "# the output is in a_words.txt"
   ]
  },
  {
   "cell_type": "markdown",
   "id": "8624017b",
   "metadata": {},
   "source": [
    "Task 4: all exclamation sentences from 2430 A.D. story"
   ]
  },
  {
   "cell_type": "code",
   "execution_count": 12,
   "id": "2fe920af",
   "metadata": {},
   "outputs": [],
   "source": [
    "pattern_finder(r'\\b[^.!?]+[!]', '2430AD.txt', 'exclamination.txt')\n",
    "# the output is in exclamination.txt"
   ]
  },
  {
   "cell_type": "markdown",
   "id": "778d198b",
   "metadata": {},
   "source": [
    "Task 5: a histogram of the distribution of the lengths of unique words from 2430 A.D. story"
   ]
  },
  {
   "cell_type": "code",
   "execution_count": 17,
   "id": "d4b492ed",
   "metadata": {},
   "outputs": [
    {
     "data": {
      "text/plain": [
       "Text(0, 0.5, 'amount of words')"
      ]
     },
     "execution_count": 17,
     "metadata": {},
     "output_type": "execute_result"
    },
    {
     "data": {
      "image/png": "[encoded data removed]",
      "text/plain": [
       "<Figure size 432x288 with 1 Axes>"
      ]
     },
     "metadata": {
      "needs_background": "light"
     },
     "output_type": "display_data"
    }
   ],
   "source": [
    "pattern_finder(r'\\b\\w+\\b', '2430AD.txt', 'unique.txt')\n",
    "with open('unique.txt') as file:\n",
    "    lines = file.readlines()\n",
    "    lines = [line.rstrip() for line in lines]\n",
    "length = {}\n",
    "for i in lines:\n",
    "    length[i] = len(i)\n",
    "    length_list = [i for i in length.values()]\n",
    "plt.hist(length_list)\n",
    "plt.xlabel(\"word length\")\n",
    "plt.ylabel(\"amount of words\")"
   ]
  }
 ],
 "metadata": {
  "kernelspec": {
   "display_name": "Python 3 (ipykernel)",
   "language": "python",
   "name": "python3"
  },
  "language_info": {
   "codemirror_mode": {
    "name": "ipython",
    "version": 3
   },
   "file_extension": ".py",
   "mimetype": "text/x-python",
   "name": "python",
   "nbconvert_exporter": "python",
   "pygments_lexer": "ipython3",
   "version": "3.9.7"
  }
 },
 "nbformat": 4,
 "nbformat_minor": 5
}
