{
 "cells": [
  {
   "cell_type": "markdown",
   "id": "2b74cbdb",
   "metadata": {},
   "source": [
    "# API"
   ]
  },
  {
   "cell_type": "code",
   "execution_count": 1,
   "id": "35fe7387",
   "metadata": {},
   "outputs": [],
   "source": [
    "import requests\n",
    "from bs4 import BeautifulSoup\n",
    "import re\n",
    "import pandas as pd"
   ]
  },
  {
   "cell_type": "markdown",
   "id": "b6c2d244",
   "metadata": {},
   "source": [
    "### GenscanOutput class"
   ]
  },
  {
   "cell_type": "code",
   "execution_count": 2,
   "id": "dc4b81d8",
   "metadata": {},
   "outputs": [],
   "source": [
    "class GenscanOutput:\n",
    "    def __init__(self, status, cds_list, intron_list, exon_list):\n",
    "        self.status = status\n",
    "        self.cds_list = cds_list\n",
    "        self.intron_list = intron_list\n",
    "        self.exon_list = exon_list"
   ]
  },
  {
   "cell_type": "markdown",
   "id": "5d675eed",
   "metadata": {},
   "source": [
    "### run_genscan function"
   ]
  },
  {
   "cell_type": "code",
   "execution_count": 3,
   "id": "3bf6f0d4",
   "metadata": {},
   "outputs": [],
   "source": [
    "def run_genscan(sequence=None, sequence_file=None, organism=\"Vertebrate\",exon_cutoff=1.00, sequence_name=\"\", print_options='Predicted peptides only'):\n",
    "    \n",
    "    form_url = 'http://hollywood.mit.edu/cgi-bin/genscanw_py.cgi'\n",
    "\n",
    "    if sequence_file is not None:\n",
    "        sequence_file = open(sequence_file, \"rb\")\n",
    "        files = {'-u': sequence_file}\n",
    "\n",
    "        payload = {\n",
    "            '-o': organism,\n",
    "            '-e': exon_cutoff,\n",
    "            '-n': sequence_name,\n",
    "            '-p': print_options,\n",
    "        }\n",
    "\n",
    "        resp = requests.post(form_url, data=payload, files=files)\n",
    "        sequence_file.close()\n",
    "\n",
    "    else:\n",
    "        payload = {\n",
    "            '-o': organism,\n",
    "            '-e': exon_cutoff,\n",
    "            '-n': sequence_name,\n",
    "            '-p': print_options,\n",
    "            '-s': sequence\n",
    "        }\n",
    "\n",
    "        resp = requests.post(form_url, data=payload)\n",
    "        \n",
    "    status = resp.status_code\n",
    "\n",
    "    soup = str(BeautifulSoup(resp.content).find('pre').text)\n",
    "\n",
    "    # peptides\n",
    "    peptides = []\n",
    "\n",
    "    for peptide in re.compile(r'aa\\n[A-Y\\n]+').findall(soup):\n",
    "        peptides.append(peptide[2:].replace('\\n', ''))\n",
    "\n",
    "    # exons\n",
    "    exon_start = []\n",
    "    exon_end = []\n",
    "\n",
    "    for exon in re.compile(r'1\\.\\d\\d.+\\d').findall(soup):\n",
    "        exon_start.append(int(exon[11:18]))\n",
    "        exon_end.append(int(exon[18:25]))\n",
    "    \n",
    "    exons = pd.DataFrame({'exon start':exon_start, 'exon end':exon_end}, columns = ['exon start', 'exon end'])\n",
    "\n",
    "    # introns\n",
    "    intron_start = [0]\n",
    "    intron_end = []\n",
    "    length = int(re.compile(r'fasta.+bp').findall(soup)[0][7:-2])\n",
    "\n",
    "    for i in range(len(exon_start)):\n",
    "        intron_end.append(exon_start[i]-1)\n",
    "        intron_start.append(exon_end[i]+1)\n",
    "        \n",
    "    intron_end.append(length)\n",
    "    \n",
    "    introns = pd.DataFrame({'intron start':intron_start, 'intron end':intron_end}, columns = ['intron start', 'intron end'])\n",
    "\n",
    "    return GenscanOutput(status = status, cds_list = peptides, intron_list = introns, exon_list = exons)"
   ]
  },
  {
   "cell_type": "markdown",
   "id": "9313997a",
   "metadata": {},
   "source": [
    "### Testing using test data"
   ]
  },
  {
   "cell_type": "code",
   "execution_count": 4,
   "id": "defe0dbf",
   "metadata": {},
   "outputs": [],
   "source": [
    "test = run_genscan(sequence=None, sequence_file='./test_data/TP53.fna', organism=\"Vertebrate\",exon_cutoff=0.80, sequence_name=\"\", print_options='Predicted peptides only')"
   ]
  },
  {
   "cell_type": "code",
   "execution_count": 5,
   "id": "e55dd14d",
   "metadata": {},
   "outputs": [
    {
     "data": {
      "text/plain": [
       "200"
      ]
     },
     "execution_count": 5,
     "metadata": {},
     "output_type": "execute_result"
    }
   ],
   "source": [
    "test.status"
   ]
  },
  {
   "cell_type": "code",
   "execution_count": 6,
   "id": "9d102ec7",
   "metadata": {},
   "outputs": [
    {
     "data": {
      "text/plain": [
       "['XSQTAFRVTAMEEPQSDPSVEPPLSQETFSDLWKLLPENNVLSPLPSQAMDDLMLSPDDIEQWFTEDPGPDEAPRMPEAAPPVAPAPAAPTPAAPAPAPSWPLSSSVPSQKTYQGSYGFRLGFLHSGTAKSVTCTYSPALNKMFCQLAKTCPVQLWVDSTPPPGTRVRAMAIYKQSQHMTEVVRRCPHHERCSDSDGLAPPQHLIRVEGNLRVEYLDDRNTFRHSVVVPYEPPEVGSDCTTIHYNYMCNSSCMGGMNRRPILTIITLEDSSGNLLGRNSFEVRVCACPGRDRRTEEENLRKKGEPHHELPPGSTKRALPNNTSSSPQPKKKPLDGEYFTLQIRGRERFEMFRELNEALELKDAQAGKEPGGSRAHSSHLKSKKGQSTSRHKKLMFKTEGPDSD']"
      ]
     },
     "execution_count": 6,
     "metadata": {},
     "output_type": "execute_result"
    }
   ],
   "source": [
    "test.cds_list"
   ]
  },
  {
   "cell_type": "code",
   "execution_count": 7,
   "id": "3354629f",
   "metadata": {},
   "outputs": [
    {
     "data": {
      "text/html": [
       "<div>\n",
       "<style scoped>\n",
       "    .dataframe tbody tr th:only-of-type {\n",
       "        vertical-align: middle;\n",
       "    }\n",
       "\n",
       "    .dataframe tbody tr th {\n",
       "        vertical-align: top;\n",
       "    }\n",
       "\n",
       "    .dataframe thead th {\n",
       "        text-align: right;\n",
       "    }\n",
       "</style>\n",
       "<table border=\"1\" class=\"dataframe\">\n",
       "  <thead>\n",
       "    <tr style=\"text-align: right;\">\n",
       "      <th></th>\n",
       "      <th>exon start</th>\n",
       "      <th>exon end</th>\n",
       "    </tr>\n",
       "  </thead>\n",
       "  <tbody>\n",
       "    <tr>\n",
       "      <th>0</th>\n",
       "      <td>10909</td>\n",
       "      <td>11010</td>\n",
       "    </tr>\n",
       "    <tr>\n",
       "      <th>1</th>\n",
       "      <td>11128</td>\n",
       "      <td>11149</td>\n",
       "    </tr>\n",
       "    <tr>\n",
       "      <th>2</th>\n",
       "      <td>11259</td>\n",
       "      <td>11537</td>\n",
       "    </tr>\n",
       "    <tr>\n",
       "      <th>3</th>\n",
       "      <td>12295</td>\n",
       "      <td>12478</td>\n",
       "    </tr>\n",
       "    <tr>\n",
       "      <th>4</th>\n",
       "      <td>12560</td>\n",
       "      <td>12672</td>\n",
       "    </tr>\n",
       "    <tr>\n",
       "      <th>5</th>\n",
       "      <td>13241</td>\n",
       "      <td>13350</td>\n",
       "    </tr>\n",
       "    <tr>\n",
       "      <th>6</th>\n",
       "      <td>13694</td>\n",
       "      <td>13830</td>\n",
       "    </tr>\n",
       "    <tr>\n",
       "      <th>7</th>\n",
       "      <td>13923</td>\n",
       "      <td>13996</td>\n",
       "    </tr>\n",
       "    <tr>\n",
       "      <th>8</th>\n",
       "      <td>16816</td>\n",
       "      <td>16922</td>\n",
       "    </tr>\n",
       "    <tr>\n",
       "      <th>9</th>\n",
       "      <td>17841</td>\n",
       "      <td>17922</td>\n",
       "    </tr>\n",
       "    <tr>\n",
       "      <th>10</th>\n",
       "      <td>19093</td>\n",
       "      <td>19098</td>\n",
       "    </tr>\n",
       "  </tbody>\n",
       "</table>\n",
       "</div>"
      ],
      "text/plain": [
       "    exon start  exon end\n",
       "0        10909     11010\n",
       "1        11128     11149\n",
       "2        11259     11537\n",
       "3        12295     12478\n",
       "4        12560     12672\n",
       "5        13241     13350\n",
       "6        13694     13830\n",
       "7        13923     13996\n",
       "8        16816     16922\n",
       "9        17841     17922\n",
       "10       19093     19098"
      ]
     },
     "execution_count": 7,
     "metadata": {},
     "output_type": "execute_result"
    }
   ],
   "source": [
    "test.exon_list"
   ]
  },
  {
   "cell_type": "code",
   "execution_count": 8,
   "id": "544ae55c",
   "metadata": {},
   "outputs": [
    {
     "data": {
      "text/html": [
       "<div>\n",
       "<style scoped>\n",
       "    .dataframe tbody tr th:only-of-type {\n",
       "        vertical-align: middle;\n",
       "    }\n",
       "\n",
       "    .dataframe tbody tr th {\n",
       "        vertical-align: top;\n",
       "    }\n",
       "\n",
       "    .dataframe thead th {\n",
       "        text-align: right;\n",
       "    }\n",
       "</style>\n",
       "<table border=\"1\" class=\"dataframe\">\n",
       "  <thead>\n",
       "    <tr style=\"text-align: right;\">\n",
       "      <th></th>\n",
       "      <th>intron start</th>\n",
       "      <th>intron end</th>\n",
       "    </tr>\n",
       "  </thead>\n",
       "  <tbody>\n",
       "    <tr>\n",
       "      <th>0</th>\n",
       "      <td>0</td>\n",
       "      <td>10908</td>\n",
       "    </tr>\n",
       "    <tr>\n",
       "      <th>1</th>\n",
       "      <td>11011</td>\n",
       "      <td>11127</td>\n",
       "    </tr>\n",
       "    <tr>\n",
       "      <th>2</th>\n",
       "      <td>11150</td>\n",
       "      <td>11258</td>\n",
       "    </tr>\n",
       "    <tr>\n",
       "      <th>3</th>\n",
       "      <td>11538</td>\n",
       "      <td>12294</td>\n",
       "    </tr>\n",
       "    <tr>\n",
       "      <th>4</th>\n",
       "      <td>12479</td>\n",
       "      <td>12559</td>\n",
       "    </tr>\n",
       "    <tr>\n",
       "      <th>5</th>\n",
       "      <td>12673</td>\n",
       "      <td>13240</td>\n",
       "    </tr>\n",
       "    <tr>\n",
       "      <th>6</th>\n",
       "      <td>13351</td>\n",
       "      <td>13693</td>\n",
       "    </tr>\n",
       "    <tr>\n",
       "      <th>7</th>\n",
       "      <td>13831</td>\n",
       "      <td>13922</td>\n",
       "    </tr>\n",
       "    <tr>\n",
       "      <th>8</th>\n",
       "      <td>13997</td>\n",
       "      <td>16815</td>\n",
       "    </tr>\n",
       "    <tr>\n",
       "      <th>9</th>\n",
       "      <td>16923</td>\n",
       "      <td>17840</td>\n",
       "    </tr>\n",
       "    <tr>\n",
       "      <th>10</th>\n",
       "      <td>17923</td>\n",
       "      <td>19092</td>\n",
       "    </tr>\n",
       "    <tr>\n",
       "      <th>11</th>\n",
       "      <td>19099</td>\n",
       "      <td>19110</td>\n",
       "    </tr>\n",
       "  </tbody>\n",
       "</table>\n",
       "</div>"
      ],
      "text/plain": [
       "    intron start  intron end\n",
       "0              0       10908\n",
       "1          11011       11127\n",
       "2          11150       11258\n",
       "3          11538       12294\n",
       "4          12479       12559\n",
       "5          12673       13240\n",
       "6          13351       13693\n",
       "7          13831       13922\n",
       "8          13997       16815\n",
       "9          16923       17840\n",
       "10         17923       19092\n",
       "11         19099       19110"
      ]
     },
     "execution_count": 8,
     "metadata": {},
     "output_type": "execute_result"
    }
   ],
   "source": [
    "test.intron_list"
   ]
  }
 ],
 "metadata": {
  "kernelspec": {
   "display_name": "Python 3 (ipykernel)",
   "language": "python",
   "name": "python3"
  },
  "language_info": {
   "codemirror_mode": {
    "name": "ipython",
    "version": 3
   },
   "file_extension": ".py",
   "mimetype": "text/x-python",
   "name": "python",
   "nbconvert_exporter": "python",
   "pygments_lexer": "ipython3",
   "version": "3.9.7"
  }
 },
 "nbformat": 4,
 "nbformat_minor": 5
}
